{
  "nbformat": 4,
  "nbformat_minor": 0,
  "metadata": {
    "kernelspec": {
      "display_name": "Python 3",
      "language": "python",
      "name": "python3"
    },
    "language_info": {
      "codemirror_mode": {
        "name": "ipython",
        "version": 3
      },
      "file_extension": ".py",
      "mimetype": "text/x-python",
      "name": "python",
      "nbconvert_exporter": "python",
      "pygments_lexer": "ipython3",
      "version": "3.7.4"
    },
    "colab": {
      "name": "Untitled.ipynb",
      "provenance": []
    }
  },
  "cells": [
    {
      "cell_type": "code",
      "metadata": {
        "id": "7qZT3ThQTLXO",
        "colab_type": "code",
        "colab": {}
      },
      "source": [
        "import numpy as np\n",
        "import pandas as pd\n",
        "import cv2\n",
        "\n",
        "import matplotlib.pyplot as plt\n",
        "import matplotlib.image as mpimg"
      ],
      "execution_count": 0,
      "outputs": []
    },
    {
      "cell_type": "code",
      "metadata": {
        "id": "IXzpsTm3TLXY",
        "colab_type": "code",
        "colab": {}
      },
      "source": [
        "#-----Reading the image-----------------------------------------------------\n",
        "img = cv2.imread('image.jpg')\n",
        "#cv2.imshow(\"img\",img) \n",
        "\n",
        "#-----Converting image to LAB Color model----------------------------------- \n",
        "lab= cv2.cvtColor(img, cv2.COLOR_BGR2LAB)\n",
        "#cv2.imshow(\"lab\",lab)\n",
        "\n",
        "#-----Splitting the LAB image to different channels-------------------------\n",
        "l, a, b = cv2.split(lab)\n",
        "#cv2.imshow('l_channel', l)\n",
        "#cv2.imshow('a_channel', a)\n",
        "#cv2.imshow('b_channel', b)\n",
        "\n",
        "#-----Applying CLAHE to L-channel-------------------------------------------\n",
        "clahe = cv2.createCLAHE(clipLimit=3.0, tileGridSize=(8,8))\n",
        "cl = clahe.apply(l)\n",
        "#cv2.imshow('CLAHE output', cl)\n",
        "\n",
        "#-----Merge the CLAHE enhanced L-channel with the a and b channel-----------\n",
        "limg = cv2.merge((cl,a,b))\n",
        "#cv2.imshow('limg', limg)\n",
        "\n",
        "#-----Converting image from LAB Color model to RGB model--------------------\n",
        "image1 = cv2.cvtColor(limg, cv2.COLOR_LAB2BGR)\n",
        "#cv2.imshow('final', image1)\n",
        "#cv2.waitKey(0)\n",
        "#cv2.destroyAllWindows()"
      ],
      "execution_count": 0,
      "outputs": []
    },
    {
      "cell_type": "code",
      "metadata": {
        "id": "ViNKurpQTLXd",
        "colab_type": "code",
        "outputId": "c4fa3a39-f549-4212-9aca-b230666cc03c",
        "colab": {}
      },
      "source": [
        "type(image1)"
      ],
      "execution_count": 0,
      "outputs": [
        {
          "output_type": "execute_result",
          "data": {
            "text/plain": [
              "numpy.ndarray"
            ]
          },
          "metadata": {
            "tags": []
          },
          "execution_count": 20
        }
      ]
    },
    {
      "cell_type": "code",
      "metadata": {
        "id": "8TVL6c2CTLXk",
        "colab_type": "code",
        "colab": {}
      },
      "source": [
        "image1=cv2.imread('image.jpg')\n",
        "scale_percent = 30 # percent of original size\n",
        "width = int(image1.shape[1] * scale_percent / 100)\n",
        "height = int(image1.shape[0] * scale_percent / 100)\n",
        "dim = (width, height)\n",
        "\n",
        "image = cv2.resize(image1, dim, interpolation = cv2.INTER_AREA)\n",
        "gray=cv2.cvtColor(image,cv2.COLOR_BGR2GRAY)\n",
        "#cv2.imshow('original image', image)\n",
        "#cv2.imshow('grayscale image', gray)\n",
        "#cv2.waitKey(0)\n",
        "#cv2.destroyAllWindows()\n",
        "blur = cv2.GaussianBlur(gray, (3,3), 0)"
      ],
      "execution_count": 0,
      "outputs": []
    },
    {
      "cell_type": "code",
      "metadata": {
        "id": "OOSAjvROTLXq",
        "colab_type": "code",
        "colab": {}
      },
      "source": [
        "th = cv2.adaptiveThreshold(blur,255,cv2.ADAPTIVE_THRESH_GAUSSIAN_C,\\\n",
        "            cv2.THRESH_BINARY,11,2)\n",
        "#cv2.imshow('binarized image', th)\n",
        "cv2.waitKey(0)\n",
        "cv2.destroyAllWindows()"
      ],
      "execution_count": 0,
      "outputs": []
    },
    {
      "cell_type": "code",
      "metadata": {
        "id": "d8LNMs4eTLXv",
        "colab_type": "code",
        "colab": {}
      },
      "source": [
        "#img = cv2.imread('image.jpg')\n",
        "edges=cv2.Canny(th, 100,200)\n",
        "#cv2.imshow('edges', edges)\n",
        "cv2.waitKey(0)\n",
        "cv2.destroyAllWindows()"
      ],
      "execution_count": 0,
      "outputs": []
    },
    {
      "cell_type": "code",
      "metadata": {
        "id": "GTvTsisUTLX0",
        "colab_type": "code",
        "colab": {}
      },
      "source": [
        "#kernel = np.ones((5,100), np.uint8)\n",
        "#dilation = cv2.dilate(th, kernel, iterations=1)\n",
        "#cv2.imshow('dilated',img_dilation)\n",
        "#cv2.waitKey(0)\n",
        "\n",
        "rect_kernel = cv2.getStructuringElement(cv2.MORPH_RECT, (15, 3))\n",
        "dilation = cv2.dilate(edges,rect_kernel, iterations=1)\n",
        "cv2.imshow(\"dilation\",dilation)\n",
        "cv2.waitKey(0)\n",
        "cv2.destroyAllWindows()"
      ],
      "execution_count": 0,
      "outputs": []
    },
    {
      "cell_type": "code",
      "metadata": {
        "id": "7wBTFR10TLX4",
        "colab_type": "code",
        "outputId": "37e45778-b737-4872-f433-986d562473c7",
        "colab": {}
      },
      "source": [
        "contours, hierarchy = cv2.findContours(dilation, cv2.RETR_EXTERNAL, cv2.CHAIN_APPROX_SIMPLE)\n",
        "im2 = image.copy()\n",
        "idx=0\n",
        "for cnt in contours:\n",
        "    x,y,w,h= cv2.boundingRect(cnt)\n",
        "    if w>5 and h>5:\n",
        "        idx+=1\n",
        "        new_img=image[y:y+h,x:x+w]\n",
        "        cv2.imwrite(str(idx)+'.png',new_img)\n",
        "    cv2.rectangle(im2,(x,y),(x+w ,y+h), (0,255,0), 1)\n",
        "cv2.imshow('final',im2)\n",
        "cv2.waitKey(0)\n",
        "cv2.destroyAllWindows()"
      ],
      "execution_count": 0,
      "outputs": [
        {
          "output_type": "error",
          "ename": "error",
          "evalue": "OpenCV(4.1.2) /io/opencv/modules/imgproc/src/contours.cpp:197: error: (-210:Unsupported format or combination of formats) [Start]FindContours supports only CV_8UC1 images when mode != CV_RETR_FLOODFILL otherwise supports CV_32SC1 images only in function 'cvStartFindContours_Impl'\n",
          "traceback": [
            "\u001b[0;31m---------------------------------------------------------------------------\u001b[0m",
            "\u001b[0;31merror\u001b[0m                                     Traceback (most recent call last)",
            "\u001b[0;32m<ipython-input-30-3d41ee709862>\u001b[0m in \u001b[0;36m<module>\u001b[0;34m\u001b[0m\n\u001b[0;32m----> 1\u001b[0;31m \u001b[0mcontours\u001b[0m\u001b[0;34m,\u001b[0m \u001b[0mhierarchy\u001b[0m \u001b[0;34m=\u001b[0m \u001b[0mcv2\u001b[0m\u001b[0;34m.\u001b[0m\u001b[0mfindContours\u001b[0m\u001b[0;34m(\u001b[0m\u001b[0mimage1\u001b[0m\u001b[0;34m,\u001b[0m \u001b[0mcv2\u001b[0m\u001b[0;34m.\u001b[0m\u001b[0mRETR_EXTERNAL\u001b[0m\u001b[0;34m,\u001b[0m \u001b[0mcv2\u001b[0m\u001b[0;34m.\u001b[0m\u001b[0mCHAIN_APPROX_SIMPLE\u001b[0m\u001b[0;34m)\u001b[0m\u001b[0;34m\u001b[0m\u001b[0;34m\u001b[0m\u001b[0m\n\u001b[0m\u001b[1;32m      2\u001b[0m \u001b[0mim2\u001b[0m \u001b[0;34m=\u001b[0m \u001b[0mimage\u001b[0m\u001b[0;34m.\u001b[0m\u001b[0mcopy\u001b[0m\u001b[0;34m(\u001b[0m\u001b[0;34m)\u001b[0m\u001b[0;34m\u001b[0m\u001b[0;34m\u001b[0m\u001b[0m\n\u001b[1;32m      3\u001b[0m \u001b[0midx\u001b[0m\u001b[0;34m=\u001b[0m\u001b[0;36m0\u001b[0m\u001b[0;34m\u001b[0m\u001b[0;34m\u001b[0m\u001b[0m\n\u001b[1;32m      4\u001b[0m \u001b[0;32mfor\u001b[0m \u001b[0mcnt\u001b[0m \u001b[0;32min\u001b[0m \u001b[0mcontours\u001b[0m\u001b[0;34m:\u001b[0m\u001b[0;34m\u001b[0m\u001b[0;34m\u001b[0m\u001b[0m\n\u001b[1;32m      5\u001b[0m     \u001b[0mx\u001b[0m\u001b[0;34m,\u001b[0m\u001b[0my\u001b[0m\u001b[0;34m,\u001b[0m\u001b[0mw\u001b[0m\u001b[0;34m,\u001b[0m\u001b[0mh\u001b[0m\u001b[0;34m=\u001b[0m \u001b[0mcv2\u001b[0m\u001b[0;34m.\u001b[0m\u001b[0mboundingRect\u001b[0m\u001b[0;34m(\u001b[0m\u001b[0mcnt\u001b[0m\u001b[0;34m)\u001b[0m\u001b[0;34m\u001b[0m\u001b[0;34m\u001b[0m\u001b[0m\n",
            "\u001b[0;31merror\u001b[0m: OpenCV(4.1.2) /io/opencv/modules/imgproc/src/contours.cpp:197: error: (-210:Unsupported format or combination of formats) [Start]FindContours supports only CV_8UC1 images when mode != CV_RETR_FLOODFILL otherwise supports CV_32SC1 images only in function 'cvStartFindContours_Impl'\n"
          ]
        }
      ]
    },
    {
      "cell_type": "code",
      "metadata": {
        "id": "QkbeoL9aTLX9",
        "colab_type": "code",
        "outputId": "ef365dd9-fe4c-43a7-a7e5-d1929c781fec",
        "colab": {}
      },
      "source": [
        "print(type(im2))"
      ],
      "execution_count": 0,
      "outputs": [
        {
          "output_type": "stream",
          "text": [
            "<class 'numpy.ndarray'>\n"
          ],
          "name": "stdout"
        }
      ]
    },
    {
      "cell_type": "code",
      "metadata": {
        "id": "-oDEYoqSTLYB",
        "colab_type": "code",
        "outputId": "5366819b-22cb-4252-8dd2-4c556584882a",
        "colab": {}
      },
      "source": [
        "im = cv2.resize(contours,None,fx=4, fy=4, interpolation = cv2.INTER_CUBIC)"
      ],
      "execution_count": 0,
      "outputs": [
        {
          "output_type": "error",
          "ename": "TypeError",
          "evalue": "Expected Ptr<cv::UMat> for argument '%s'",
          "traceback": [
            "\u001b[0;31m---------------------------------------------------------------------------\u001b[0m",
            "\u001b[0;31mTypeError\u001b[0m                                 Traceback (most recent call last)",
            "\u001b[0;32m<ipython-input-21-11fe19b7e17b>\u001b[0m in \u001b[0;36m<module>\u001b[0;34m\u001b[0m\n\u001b[0;32m----> 1\u001b[0;31m \u001b[0mim\u001b[0m \u001b[0;34m=\u001b[0m \u001b[0mcv2\u001b[0m\u001b[0;34m.\u001b[0m\u001b[0mresize\u001b[0m\u001b[0;34m(\u001b[0m\u001b[0mcontours\u001b[0m\u001b[0;34m,\u001b[0m\u001b[0;32mNone\u001b[0m\u001b[0;34m,\u001b[0m\u001b[0mfx\u001b[0m\u001b[0;34m=\u001b[0m\u001b[0;36m4\u001b[0m\u001b[0;34m,\u001b[0m \u001b[0mfy\u001b[0m\u001b[0;34m=\u001b[0m\u001b[0;36m4\u001b[0m\u001b[0;34m,\u001b[0m \u001b[0minterpolation\u001b[0m \u001b[0;34m=\u001b[0m \u001b[0mcv2\u001b[0m\u001b[0;34m.\u001b[0m\u001b[0mINTER_CUBIC\u001b[0m\u001b[0;34m)\u001b[0m\u001b[0;34m\u001b[0m\u001b[0;34m\u001b[0m\u001b[0m\n\u001b[0m",
            "\u001b[0;31mTypeError\u001b[0m: Expected Ptr<cv::UMat> for argument '%s'"
          ]
        }
      ]
    },
    {
      "cell_type": "code",
      "metadata": {
        "id": "YgXWsbAVTLYI",
        "colab_type": "code",
        "colab": {}
      },
      "source": [
        ""
      ],
      "execution_count": 0,
      "outputs": []
    }
  ]
}